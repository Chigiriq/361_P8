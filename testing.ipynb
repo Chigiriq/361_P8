{
 "cells": [
  {
   "cell_type": "code",
   "execution_count": 8,
   "id": "81d277fc",
   "metadata": {},
   "outputs": [],
   "source": [
    "def getPushD():\n",
    "     # This method takes no arguments and returns a string with assembly language\n",
    "     # that will push the contents of the D register to the stack.\n",
    "     return '@SP,A=M,M=D,@SP,M=M+1,'\n",
    "\n",
    "def getPopD():\n",
    "    # This method takes no arguments and returns a string with assembly language\n",
    "    # that will pop the stack to the D register.\n",
    "    # SIDE EFFECT: The A register contains the SP.\n",
    "     return '@SP,AM=M-1,D=M,'"
   ]
  },
  {
   "cell_type": "code",
   "execution_count": 9,
   "id": "f632f40d",
   "metadata": {},
   "outputs": [],
   "source": [
    "def _getPushMem(src):\n",
    "    \"\"\"\n",
    "    Helper function to push memory to location src to stack\n",
    "    \"\"\"\n",
    "    ans = \"@\" + str(src) + \",D=M,\" + getPushD()\n",
    "    return ans\n",
    "\n",
    "def _getPushLabel(src):\n",
    "    \"\"\"\n",
    "    Helper function to push the ROM address of a label to the\n",
    "    stack.\n",
    "    \"\"\"\n",
    "    ans = \"@\" + str(src) + \",D=A,\" + getPushD()\n",
    "    return ans\n",
    "   \n",
    "\n",
    "def _getPopMem(dest):\n",
    "    \"\"\"\n",
    "    Helper function to pop the stack to the memory address dest.\n",
    "    \"\"\"\n",
    "    ans = getPopD() + \"@\" + str(dest) + \",M=D,\"\n",
    "    return ans\n",
    "\n",
    "def _getMoveMem(src,dest):\n",
    "    \"\"\"\n",
    "    Helper function to move the contents of src to memory location dest.\n",
    "    \"\"\"\n",
    "    ans = \"@\" + str(src) + \",D=M,\" + \"@\" + str(dest) + \",M=D,\"\n",
    "    return ans"
   ]
  },
  {
   "cell_type": "code",
   "execution_count": 14,
   "id": "90f5a1f1",
   "metadata": {},
   "outputs": [
    {
     "name": "stdout",
     "output_type": "stream",
     "text": [
      "@src,D=M,@dest,M=D,\n"
     ]
    }
   ],
   "source": [
    "print(_getMoveMem(\"src\",\"dest\"))"
   ]
  },
  {
   "cell_type": "code",
   "execution_count": null,
   "id": "a306d7aa",
   "metadata": {},
   "outputs": [],
   "source": []
  }
 ],
 "metadata": {
  "kernelspec": {
   "display_name": "base",
   "language": "python",
   "name": "python3"
  },
  "language_info": {
   "codemirror_mode": {
    "name": "ipython",
    "version": 3
   },
   "file_extension": ".py",
   "mimetype": "text/x-python",
   "name": "python",
   "nbconvert_exporter": "python",
   "pygments_lexer": "ipython3",
   "version": "3.12.7"
  }
 },
 "nbformat": 4,
 "nbformat_minor": 5
}
