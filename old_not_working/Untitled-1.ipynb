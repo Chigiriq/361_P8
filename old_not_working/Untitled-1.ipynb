{
 "cells": [
  {
   "cell_type": "code",
   "execution_count": 2,
   "id": "8fed428f",
   "metadata": {},
   "outputs": [
    {
     "data": {
      "text/plain": [
       "'// Restore THAT = FRAME - 1, @R14, AM=M-1, D=M, @THAT, M=D,// Restore THIS = FRAME - 2,@R14, AM=M-1, D=M, @THIS, M=D,// Restore ARG = FRAME - 3,@R14, AM=M-1, D=M, @ARG, M=D,// Restore LCL = FRAME - 4,@R14, AM=M-1, D=M, @LCL, M=D,'"
      ]
     },
     "execution_count": 2,
     "metadata": {},
     "output_type": "execute_result"
    }
   ],
   "source": [
    "code =\"\"\n",
    "code += \"// Restore THAT = FRAME - 1, @R14, AM=M-1, D=M, @THAT, M=D,\" #THAT = *(endFrame - 1)\n",
    "code += \"// Restore THIS = FRAME - 2,@R14, AM=M-1, D=M, @THIS, M=D,\" #THIS = *(endFrame - 2)\n",
    "code += \"// Restore ARG = FRAME - 3,@R14, AM=M-1, D=M, @ARG, M=D,\" #ARG = *(endFrame - 3)\n",
    "code += \"// Restore LCL = FRAME - 4,@R14, AM=M-1, D=M, @LCL, M=D,\" #LCL = *(endFrame - 4)\n",
    "code"
   ]
  },
  {
   "cell_type": "code",
   "execution_count": null,
   "id": "0d4f5814",
   "metadata": {},
   "outputs": [
    {
     "data": {
      "text/plain": [
       "' // Restore THAT = *(FRAME - 1),@R13,AM=M-1,D=M,@THAT,M=D,, // Restore THIS = *(FRAME - 2),@R13,AM=M-1,D=M,@THIS,M=D,, // Restore ARG = *(FRAME - 3),@R13,AM=M-1,D=M,@ARG,M=D,, // Restore LCL = *(FRAME - 4),@R13,AM=M-1,D=M,@LCL,M=D,,'"
      ]
     },
     "execution_count": 4,
     "metadata": {},
     "output_type": "execute_result"
    }
   ],
   "source": [
    "def _getRestore(destination):\n",
    "    return \",\".join([\n",
    "        \"@R13\",\n",
    "        \"AM=M-1\",\n",
    "        \"D=M\",\n",
    "        f\"@{destination}\",\n",
    "        \"M=D\",\n",
    "        \",\"\n",
    "    ])\n",
    "\n",
    "output_string = \"\"\n",
    "to_restore = [\"THAT\", \"THIS\", \"ARG\", \"LCL\"]\n",
    "for index, item in enumerate(to_restore):\n",
    "    output_string += f\" // Restore {item} = *FRAME - {index + 1},\"\n",
    "    output_string += _getRestore(item)\n",
    "\n",
    "output_string"
   ]
  },
  {
   "cell_type": "code",
   "execution_count": null,
   "id": "955a14c9",
   "metadata": {},
   "outputs": [],
   "source": []
  }
 ],
 "metadata": {
  "kernelspec": {
   "display_name": "base",
   "language": "python",
   "name": "python3"
  },
  "language_info": {
   "codemirror_mode": {
    "name": "ipython",
    "version": 3
   },
   "file_extension": ".py",
   "mimetype": "text/x-python",
   "name": "python",
   "nbconvert_exporter": "python",
   "pygments_lexer": "ipython3",
   "version": "3.12.7"
  }
 },
 "nbformat": 4,
 "nbformat_minor": 5
}
